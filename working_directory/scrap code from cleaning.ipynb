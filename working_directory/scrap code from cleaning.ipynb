{
 "cells": [
  {
   "cell_type": "code",
   "execution_count": null,
   "id": "78362101-3c33-42eb-834d-05412ea9ea5f",
   "metadata": {},
   "outputs": [],
   "source": []
  },
  {
   "cell_type": "markdown",
   "id": "e5c0a848-a145-490d-a6d0-ff948810f0ac",
   "metadata": {},
   "source": [
    "Possible problem - this filters to those who are under construction, then to those under construction in 1980 within that. It doesn't include these unit ids in other years!"
   ]
  },
  {
   "cell_type": "code",
   "execution_count": null,
   "id": "dc83033c-7f7a-4a23-aa85-2ab321a061cf",
   "metadata": {},
   "outputs": [],
   "source": [
    "two_by_two_df_uc80 = merged_two_by_two_df[merged_two_by_two_df[\"under_construction\"] == 1]\n",
    "two_by_two_df_uc80 = two_by_two_df_uc80[two_by_two_df_uc80[\"year\"] == 1980]\n",
    "\n",
    "two_by_two_df_uc80"
   ]
  },
  {
   "cell_type": "code",
   "execution_count": null,
   "id": "b6d819c2-3b7b-4eba-bb56-b12aa83792c7",
   "metadata": {
    "tags": []
   },
   "outputs": [],
   "source": [
    "len(two_by_two_df_uc80[\"unit_id\"].unique())"
   ]
  },
  {
   "cell_type": "code",
   "execution_count": null,
   "id": "02275a7d-e256-4d96-b6ab-6971eff0349e",
   "metadata": {},
   "outputs": [],
   "source": [
    "len(two_by_two_df_uc80[\"latitude\"].unique())"
   ]
  },
  {
   "cell_type": "code",
   "execution_count": null,
   "id": "a326e630-dc51-4d2b-90e9-7bff69551805",
   "metadata": {
    "tags": []
   },
   "outputs": [],
   "source": [
    "#this gets the 1980 and 1990 values of all that were under construction in 1980\n",
    "\n",
    "uc_80_ids = two_by_two_df_uc80[\"unit_id\"]\n",
    "boolean_series = merged_two_by_two_df.unit_id.isin(uc_80_ids)\n",
    "two_by_two_df_all_uc_80s = merged_two_by_two_df[boolean_series]\n",
    "two_by_two_df_all_uc_80s"
   ]
  },
  {
   "cell_type": "code",
   "execution_count": null,
   "id": "6cfa27ab-a58d-4b01-a9cd-1d1658ffeb51",
   "metadata": {},
   "outputs": [],
   "source": [
    "two_by_two_df_co_90s = two_by_two_df_all_uc_80s[two_by_two_df_all_uc_80s[\"comm_op\"] == 1]\n",
    "two_by_two_df_co_90s.head()"
   ]
  },
  {
   "cell_type": "code",
   "execution_count": null,
   "id": "72a6789e-be61-4b2b-81e2-ab73cd7b3c26",
   "metadata": {},
   "outputs": [],
   "source": [
    "len(two_by_two_df_co_90s[\"unit_id\"].unique())"
   ]
  },
  {
   "cell_type": "code",
   "execution_count": null,
   "id": "d2cb34f1-62a5-4a65-b052-4839d040c3d8",
   "metadata": {},
   "outputs": [],
   "source": [
    "two_by_two_df_ps_80s = two_by_two_df_all_uc_80s[two_by_two_df_all_uc_80s[\"permanently_suspended_1980s\"] == 1]\n",
    "two_by_two_df_ps_80s"
   ]
  },
  {
   "cell_type": "code",
   "execution_count": null,
   "id": "a2187b8c-183a-4dcf-bf0b-4263b1db757d",
   "metadata": {},
   "outputs": [],
   "source": [
    "len(two_by_two_df_ps_80s[\"unit_id\"].unique())"
   ]
  },
  {
   "cell_type": "code",
   "execution_count": null,
   "id": "b396a424-1026-444c-9817-a237f40e43e2",
   "metadata": {},
   "outputs": [],
   "source": [
    "two_by_two_df_uc80"
   ]
  },
  {
   "cell_type": "markdown",
   "id": "2cb623e7-57e6-4b32-9a8b-cbf23b85383d",
   "metadata": {},
   "source": [
    "This leaves four important dataframes: \n",
    "\n",
    "- `two_by_two_df_all_uc_80s` with all 1980 and 1990 units under construction in 1980\n",
    "- `two_by_two_df_uc80` with the 1980 units under construction in 1980\n",
    "- `two_by_two_df_co_90s` with the 1990 units under construction in 1980 and in commercial operation in 1990\n",
    "- `two_by_two_df_ps_80s` with the 1990 units under construction in 1980 but with construction permanently suspended in the 1980s"
   ]
  },
  {
   "cell_type": "markdown",
   "id": "27580ba4-3bda-4479-aaa5-597584f62ac7",
   "metadata": {},
   "source": [
    "# Checking Discrepancies\n",
    "\n",
    "I checked `two_by_two_df_co_90s` and `two_by_two_df_ps_80s` against the main dataframe for if they have entries that do not belong or missed others that should be present: in every case the dataframes here were correct. \n",
    "\n",
    "However, the number of permanently suspended (37) plus the number of commercial operation NPPs (47) in 1990 should be equal to the number under construction in 1980 (91), when it comes in 7 short.  "
   ]
  },
  {
   "cell_type": "code",
   "execution_count": null,
   "id": "f2dc3ee7-d5cd-43e3-9045-4c88a6566d1b",
   "metadata": {},
   "outputs": [],
   "source": [
    "len(two_by_two_df_uc80)"
   ]
  },
  {
   "cell_type": "code",
   "execution_count": null,
   "id": "331d1610-9a19-477a-bbdc-e73f7663935e",
   "metadata": {},
   "outputs": [],
   "source": [
    "len(two_by_two_df_co_90s[\"unit_id\"])"
   ]
  },
  {
   "cell_type": "code",
   "execution_count": null,
   "id": "f30c5083-a14d-47d7-97c8-4fe8c06d3b1d",
   "metadata": {},
   "outputs": [],
   "source": [
    "len(two_by_two_df_ps_80s[\"unit_id\"])"
   ]
  },
  {
   "cell_type": "code",
   "execution_count": null,
   "id": "d08b27f9-f0d2-453c-a57e-cbc6c952ada1",
   "metadata": {},
   "outputs": [],
   "source": [
    "set(two_by_two_df_uc80[\"unit_id\"]) - set(two_by_two_df_co_90s[\"unit_id\"]) - set(two_by_two_df_ps_80s[\"unit_id\"])"
   ]
  },
  {
   "cell_type": "code",
   "execution_count": null,
   "id": "a360b786-8d2f-4967-82ef-42daf2872309",
   "metadata": {},
   "outputs": [],
   "source": [
    "set(two_by_two_df_co_90s[\"unit_id\"]) - set(two_by_two_df_uc80[\"unit_id\"])"
   ]
  },
  {
   "cell_type": "code",
   "execution_count": null,
   "id": "206141a1-6151-4be0-ad88-fb28f37dbdc8",
   "metadata": {},
   "outputs": [],
   "source": [
    "set(two_by_two_df_ps_80s[\"unit_id\"]) - set(two_by_two_df_uc80[\"unit_id\"])"
   ]
  },
  {
   "cell_type": "code",
   "execution_count": null,
   "id": "1aa3a6c5-dd61-4eee-b2b0-ec847e508c5d",
   "metadata": {},
   "outputs": [],
   "source": [
    "set(list(two_by_two_df_co_90s[\"unit_id\"]) + list(two_by_two_df_ps_80s[\"unit_id\"])) - set(two_by_two_df_uc80[\"unit_id\"])"
   ]
  },
  {
   "cell_type": "code",
   "execution_count": null,
   "id": "a1bc8285-e709-4bbf-84b9-0beac0acc4da",
   "metadata": {},
   "outputs": [],
   "source": []
  },
  {
   "cell_type": "markdown",
   "id": "1c5dd0bd-5a71-4c24-b91f-2e5e3f03cb75",
   "metadata": {},
   "source": [
    "So there are no entries in the commercial operation or permanent suspension dataframes that aren't in the base under_construction dataset, but the latter has a number that aren't in the former two:\n",
    "\n",
    "{'US - 322 ',\n",
    " 'US - 390 ',\n",
    " 'US - 391 ',\n",
    " 'US - 417 ',\n",
    " 'US - 434 ',\n",
    " 'US - 435 ',\n",
    " 'US - 446 '}\n",
    "\n",
    "These are all out of place for various reasons:\n",
    "- 322 was retired in 1989\n",
    "- 390, 391 and 446 were suspended in the 1980s but restarted afterwards\n",
    "- 417, 434, and 435 were permanently suspended in the 1970s and were not even under construction in 1980\n",
    "\n",
    "I will remove all of them. "
   ]
  },
  {
   "cell_type": "markdown",
   "id": "194b07ce-4a6e-4966-976a-8fe7e755e0ed",
   "metadata": {},
   "source": [
    "# For Clarity\n",
    "\n",
    "I'm finding the two by two datasets hard to keep track of, and somewhat different in format due to inclusion of 1980, 1990, or both year data. So I'm going to reorganize while removing the non-belongers as such:\n",
    "\n",
    "1. `under_construction_` as the grand overall dataset, with _80, _90 and _full versions\n",
    "2. `comm_op` as the subset of those which became commercially operational, again with _80, _90, and _full versions\n",
    "3. `cancelled_` as the subset of `under_construction` that were permanently cancelled in the 1980s, again with _80, _90, and _full versions\n",
    "\n",
    "{'US - 322 ',\n",
    " 'US - 390 ',\n",
    " 'US - 391 ',\n",
    " 'US - 417 ',\n",
    " 'US - 434 ',\n",
    " 'US - 435 ',\n",
    " 'US - 446 '}"
   ]
  },
  {
   "cell_type": "markdown",
   "id": "abbb87a1-669e-45b1-8d6a-55acacebba97",
   "metadata": {},
   "source": [
    "# FOR SOME REASON YOU'RE NOT ALLOWED TO REMOVE ROWS ANYMORE SO I'M DOING THIS BACKWARDS"
   ]
  },
  {
   "cell_type": "code",
   "execution_count": null,
   "id": "493b0bb8-39d0-4a63-9542-0986d1c37254",
   "metadata": {},
   "outputs": [],
   "source": [
    "keeper_ids_1 = list(two_by_two_df_co_90s[\"unit_id\"])\n",
    "keeper_ids_2 = list(two_by_two_df_ps_80s[\"unit_id\"])\n",
    "keeper_ids = keeper_ids_1 + keeper_ids_2\n",
    "len(keeper_ids)"
   ]
  },
  {
   "cell_type": "code",
   "execution_count": null,
   "id": "1f012aca-0482-4013-9c81-49424bcfaa4c",
   "metadata": {},
   "outputs": [],
   "source": [
    "#uc_80_ids = two_by_two_df_uc80[\"unit_id\"]\n",
    "#boolean_series = merged_two_by_two_df.unit_id.isin(uc_80_ids)\n",
    "#two_by_two_df_all_uc_80s = merged_two_by_two_df[boolean_series]\n",
    "#two_by_two_df_all_uc_80s"
   ]
  },
  {
   "cell_type": "code",
   "execution_count": null,
   "id": "7fa734bc-bc54-48df-979c-d20525c7ab60",
   "metadata": {},
   "outputs": [],
   "source": [
    "set(two_by_two_df_uc80[\"unit_id\"]) - set(keeper_ids)"
   ]
  },
  {
   "cell_type": "code",
   "execution_count": null,
   "id": "ed7c39b2-ef72-4c2a-aeef-aacf291a2537",
   "metadata": {},
   "outputs": [],
   "source": [
    "two_by_two_df_uc80"
   ]
  },
  {
   "cell_type": "code",
   "execution_count": null,
   "id": "5e2ce589-f5c2-4dd1-96dd-e0f682541d9b",
   "metadata": {},
   "outputs": [],
   "source": [
    "boolean_series = two_by_two_df.unit_id.isin(keeper_ids)\n",
    "\n",
    "under_construction_full = two_by_two_df_uc80[boolean_series]\n",
    "under_construction_full"
   ]
  },
  {
   "cell_type": "code",
   "execution_count": null,
   "id": "d047a643-e82f-4a79-bd4f-370d72cfb395",
   "metadata": {},
   "outputs": [],
   "source": [
    "len(keeper_ids_1)"
   ]
  },
  {
   "cell_type": "code",
   "execution_count": null,
   "id": "c98d837e-a13f-49eb-9155-fe9d327e3962",
   "metadata": {},
   "outputs": [],
   "source": [
    "len(keeper_ids_2)"
   ]
  },
  {
   "cell_type": "code",
   "execution_count": null,
   "id": "38955778-1a6e-4286-afd5-850a667ee3c4",
   "metadata": {},
   "outputs": [],
   "source": []
  },
  {
   "cell_type": "code",
   "execution_count": null,
   "id": "3abbbf53-fc30-4d0f-8bc4-7aab5b172ac0",
   "metadata": {},
   "outputs": [],
   "source": [
    "two_by_two_df_uc80.to_csv(\"two_by_two_df_uc80.csv\")"
   ]
  },
  {
   "cell_type": "code",
   "execution_count": null,
   "id": "8e33c928-7030-4a11-b850-51020b15ae66",
   "metadata": {},
   "outputs": [],
   "source": [
    "under_construction_full.to_csv(\"under_construction_full.csv\")"
   ]
  },
  {
   "cell_type": "code",
   "execution_count": null,
   "id": "371cd21e-7a12-4d32-868a-1df9016605c5",
   "metadata": {},
   "outputs": [],
   "source": [
    "two_by_two_df_co_90s.to_csv(\"two_by_two_df_co_90s.csv\")"
   ]
  },
  {
   "cell_type": "code",
   "execution_count": null,
   "id": "69721d23-bb01-461d-ace2-f75c9d889e7c",
   "metadata": {},
   "outputs": [],
   "source": [
    "two_by_two_df_ps_80s.to_csv(\"two_by_two_df_ps_80s.csv\")"
   ]
  },
  {
   "cell_type": "code",
   "execution_count": null,
   "id": "3c189f3d-61b9-48fd-ad00-6e3914d1a3e9",
   "metadata": {},
   "outputs": [],
   "source": []
  },
  {
   "cell_type": "code",
   "execution_count": null,
   "id": "4040a4f0-e891-46e5-b3f3-2dc67143563e",
   "metadata": {},
   "outputs": [],
   "source": []
  },
  {
   "cell_type": "code",
   "execution_count": null,
   "id": "a54e5fdd-4537-4ec7-81e7-6c9552956461",
   "metadata": {},
   "outputs": [],
   "source": []
  },
  {
   "cell_type": "code",
   "execution_count": null,
   "id": "d7a5072e-798a-49f5-80d1-9cc7ed78074a",
   "metadata": {},
   "outputs": [],
   "source": [
    "#df.index[df['column_name']==value].tolist()\n",
    "\n",
    "#remove_rows = under_construction_full.index[under_construction_full[\"unit_id\"]==\"US - 322\"].tolist()\n",
    "#remove_rows"
   ]
  },
  {
   "cell_type": "code",
   "execution_count": null,
   "id": "3e96d0be-587a-4059-91e0-6db9d3b829d6",
   "metadata": {},
   "outputs": [],
   "source": [
    "#df = df[(df.rebounds != 11) & (df.points != 31)]\n",
    "#under_construction_full = two_by_two_df_uc80[two_by_two_df_uc80.unit_id != \"US - 322\"]\n",
    "#under_construction_full"
   ]
  },
  {
   "cell_type": "code",
   "execution_count": null,
   "id": "854b7b50-0a18-4de2-aa54-cd6bfc3ae89d",
   "metadata": {},
   "outputs": [],
   "source": [
    "#df2 = df.loc[df[\"Fee\"] >= 24000 ]\n",
    "under_construction_full = two_by_two_df_uc80.loc[two_by_two_df_uc80[\"year\"] != \"US - 322\"]\n",
    "under_construction_full\n",
    "#two_by_two_df_uc80[two_by_two_df_uc80[\"year\"] != \"US - 322\"]"
   ]
  },
  {
   "cell_type": "code",
   "execution_count": null,
   "id": "a1ed3a11-6043-4928-a682-b3f0caf2ae53",
   "metadata": {},
   "outputs": [],
   "source": [
    "#df2=df.query(\"Courses == 'Spark'\")\n",
    "\n",
    "under_construction_full = two_by_two_df_uc80.query(\"unit_id != 'US - 322'\")\n",
    "\n",
    "#loc[two_by_two_df_uc80[\"year\"] != \"US - 322\"]\n",
    "under_construction_full"
   ]
  },
  {
   "cell_type": "code",
   "execution_count": null,
   "id": "140b1d05-f479-423f-ab53-2094c46402d9",
   "metadata": {},
   "outputs": [],
   "source": [
    "#df = df[df.line_race != 0]\n",
    "#df = df[df['Team'] != 'C']\n",
    "under_construction_full = two_by_two_df_uc80[two_by_two_df_uc80[\"unit_id\"] != \"US - 322\"]\n",
    "under_construction_full = under_construction_full[under_construction_full[\"unit_id\"] != \"US - 390\"]\n",
    "under_construction_full = under_construction_full[under_construction_full[\"unit_id\"] != \"US - 391\"]\n",
    "under_construction_full = under_construction_full[under_construction_full[\"unit_id\"] != \"US - 417\"]\n",
    "under_construction_full = under_construction_full[under_construction_full[\"unit_id\"] != \"US - 434\"]\n",
    "under_construction_full = under_construction_full[under_construction_full[\"unit_id\"] != \"US - 435\"]\n",
    "under_construction_full = under_construction_full[under_construction_full[\"unit_id\"] != \"US - 446\"]\n",
    "under_construction_full"
   ]
  },
  {
   "cell_type": "code",
   "execution_count": null,
   "id": "d345c718-5444-4d67-b0b5-8a86d41d69d3",
   "metadata": {},
   "outputs": [],
   "source": []
  },
  {
   "cell_type": "code",
   "execution_count": null,
   "id": "c05a5e7a-08f2-476a-ac0a-bdd1c789eb75",
   "metadata": {},
   "outputs": [],
   "source": []
  },
  {
   "cell_type": "code",
   "execution_count": null,
   "id": "0870c1fb-990b-4b29-8525-7777f8869076",
   "metadata": {},
   "outputs": [],
   "source": []
  },
  {
   "cell_type": "code",
   "execution_count": null,
   "id": "cc96bcb5-abf4-4085-b634-1f42bb86ae88",
   "metadata": {},
   "outputs": [],
   "source": []
  },
  {
   "cell_type": "markdown",
   "id": "f8d6b576-f9b7-46c5-8fa4-01e576866a56",
   "metadata": {},
   "source": [
    "I will upload these four to QGIS along with US tract data, then find the distance from each tract's centroid to the nearest under construction NPP in 1980\n",
    "\n",
    "\n",
    "how do I subset this? I take everywhere in evac radius of an NPP under construction in 1980, then compare the 1990 outcomes of the ones then in evac radius of completed NPPs to those in evac radius of not-completed NPP"
   ]
  },
  {
   "cell_type": "code",
   "execution_count": null,
   "id": "4c534f9d-2b85-4f57-bdb6-817e1bba2f4e",
   "metadata": {},
   "outputs": [],
   "source": [
    "two_by_two_df_all_uc_80s.shape"
   ]
  },
  {
   "cell_type": "code",
   "execution_count": null,
   "id": "94af157d-5066-4e54-872b-a3b01a2a76f0",
   "metadata": {},
   "outputs": [],
   "source": [
    "two_by_two_df_uc80.shape"
   ]
  },
  {
   "cell_type": "code",
   "execution_count": null,
   "id": "f1146ff2-00ff-4f03-9e0e-42f037fa0082",
   "metadata": {},
   "outputs": [],
   "source": [
    "two_by_two_df_uc80"
   ]
  },
  {
   "cell_type": "code",
   "execution_count": null,
   "id": "350ea498-5fbe-404d-8655-a3fdad56d377",
   "metadata": {},
   "outputs": [],
   "source": [
    "two_by_two_df_co_90s.shape"
   ]
  },
  {
   "cell_type": "code",
   "execution_count": null,
   "id": "96c0842e-c744-4b63-b8fb-f92c37fac88c",
   "metadata": {},
   "outputs": [],
   "source": [
    "two_by_two_df_ps_80s.shape"
   ]
  },
  {
   "cell_type": "code",
   "execution_count": null,
   "id": "26536d6d-112b-4cdf-b544-dbb44efd945d",
   "metadata": {},
   "outputs": [],
   "source": [
    "two_by_two_df_ps_80s.sort_values(\"unit_id\")[\"unit_id\"].unique()"
   ]
  },
  {
   "cell_type": "code",
   "execution_count": null,
   "id": "aae8a24c-fc1a-409e-a026-364ffb89fcc7",
   "metadata": {},
   "outputs": [],
   "source": [
    "two_by_two_df_co_90s.sort_values(\"unit_id\")[\"unit_id\"].unique()"
   ]
  },
  {
   "cell_type": "code",
   "execution_count": null,
   "id": "06a3ebff-5d63-4ae7-be31-38b18203e6dc",
   "metadata": {},
   "outputs": [],
   "source": [
    "two_by_two_df_co_90s.sort_values(\"unit_id\")"
   ]
  },
  {
   "cell_type": "code",
   "execution_count": null,
   "id": "b16cd016-9703-4dde-a16a-8fa664a2ca10",
   "metadata": {},
   "outputs": [],
   "source": []
  }
 ],
 "metadata": {
  "kernelspec": {
   "display_name": "Python 3 (ipykernel)",
   "language": "python",
   "name": "python3"
  },
  "language_info": {
   "codemirror_mode": {
    "name": "ipython",
    "version": 3
   },
   "file_extension": ".py",
   "mimetype": "text/x-python",
   "name": "python",
   "nbconvert_exporter": "python",
   "pygments_lexer": "ipython3",
   "version": "3.8.8"
  }
 },
 "nbformat": 4,
 "nbformat_minor": 5
}
